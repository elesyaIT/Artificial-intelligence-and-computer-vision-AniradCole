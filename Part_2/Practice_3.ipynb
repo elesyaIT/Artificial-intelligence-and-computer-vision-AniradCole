{
 "cells": [
  {
   "cell_type": "code",
   "execution_count": 17,
   "id": "a0c3e556",
   "metadata": {},
   "outputs": [],
   "source": [
    "!mkdir monty"
   ]
  },
  {
   "cell_type": "code",
   "execution_count": 19,
   "id": "397add23",
   "metadata": {},
   "outputs": [
    {
     "name": "stdout",
     "output_type": "stream",
     "text": [
      "Input #0, mov,mp4,m4a,3gp,3g2,mj2, from 'monty_imput.mp4':\n",
      "  Metadata:\n",
      "    major_brand     : isom\n",
      "    minor_version   : 512\n",
      "    compatible_brands: isomiso2avc1mp41\n",
      "    creation_time   : 2022-10-27T11:38:55.000000Z\n",
      "  Duration: 00:00:06.48, start: 0.000000, bitrate: 2687 kb/s\n",
      "    Stream #0:0(eng): Audio: aac (LC) (mp4a / 0x6134706D), 48000 Hz, stereo, fltp, 96 kb/s (default)\n",
      "    Metadata:\n",
      "      creation_time   : 2022-10-27T11:38:42.000000Z\n",
      "      handler_name    : SoundHandle\n",
      "    Stream #0:1(eng): Video: h264 (High) (avc1 / 0x31637661), yuv420p(tv, smpte170m/bt470bg/smpte170m), 720x1280, 2579 kb/s, 60.01 fps, 60 tbr, 90k tbn, 180k tbc (default)\n",
      "    Metadata:\n",
      "      creation_time   : 2022-10-27T11:38:42.000000Z\n",
      "      handler_name    : VideoHandle\n",
      "Stream mapping:\n",
      "  Stream #0:1 -> #0:0 (h264 (native) -> mjpeg (native))\n",
      "Press [q] to stop, [?] for help\n",
      "\u001b[1;34m[swscaler @ 0x55a9543e8740] \u001b[0m\u001b[0;33mdeprecated pixel format used, make sure you did set range correctly\n",
      "\u001b[0mOutput #0, image2, to './monty/thumb%04d.jpg':\n",
      "  Metadata:\n",
      "    major_brand     : isom\n",
      "    minor_version   : 512\n",
      "    compatible_brands: isomiso2avc1mp41\n",
      "    encoder         : Lavf58.29.100\n",
      "    Stream #0:0(eng): Video: mjpeg, yuvj420p(pc), 720x1280, q=2-31, 200 kb/s, 25 fps, 25 tbn, 25 tbc (default)\n",
      "    Metadata:\n",
      "      creation_time   : 2022-10-27T11:38:42.000000Z\n",
      "      handler_name    : VideoHandle\n",
      "      encoder         : Lavc58.54.100 mjpeg\n",
      "    Side data:\n",
      "      cpb: bitrate max/min/avg: 0/0/200000 buffer size: 0 vbv_delay: -1\n",
      "frame=  162 fps=0.0 q=24.8 Lsize=N/A time=00:00:06.48 bitrate=N/A speed=6.65x    \n",
      "video:3591kB audio:0kB subtitle:0kB other streams:0kB global headers:0kB muxing overhead: unknown\n"
     ]
    }
   ],
   "source": [
    "!ffmpeg -i monty_imput.mp4 -vf fps=25 ./monty/thumb%04d.jpg -hide_banner"
   ]
  },
  {
   "cell_type": "code",
   "execution_count": 20,
   "id": "3d7bd4fc",
   "metadata": {},
   "outputs": [
    {
     "name": "stdout",
     "output_type": "stream",
     "text": [
      "2022-10-27 14:42:35.754339: I tensorflow/core/platform/cpu_feature_guard.cc:193] This TensorFlow binary is optimized with oneAPI Deep Neural Network Library (oneDNN) to use the following CPU instructions in performance-critical operations:  AVX2 FMA\n",
      "To enable them in other operations, rebuild TensorFlow with the appropriate compiler flags.\n",
      "2022-10-27 14:42:35.955278: W tensorflow/stream_executor/platform/default/dso_loader.cc:64] Could not load dynamic library 'libcudart.so.11.0'; dlerror: libcudart.so.11.0: cannot open shared object file: No such file or directory\n",
      "2022-10-27 14:42:35.955306: I tensorflow/stream_executor/cuda/cudart_stub.cc:29] Ignore above cudart dlerror if you do not have a GPU set up on your machine.\n",
      "2022-10-27 14:42:35.991874: E tensorflow/stream_executor/cuda/cuda_blas.cc:2981] Unable to register cuBLAS factory: Attempting to register factory for plugin cuBLAS when one has already been registered\n",
      "2022-10-27 14:42:36.667681: W tensorflow/stream_executor/platform/default/dso_loader.cc:64] Could not load dynamic library 'libnvinfer.so.7'; dlerror: libnvinfer.so.7: cannot open shared object file: No such file or directory\n",
      "2022-10-27 14:42:36.667738: W tensorflow/stream_executor/platform/default/dso_loader.cc:64] Could not load dynamic library 'libnvinfer_plugin.so.7'; dlerror: libnvinfer_plugin.so.7: cannot open shared object file: No such file or directory\n",
      "2022-10-27 14:42:36.667748: W tensorflow/compiler/tf2tensorrt/utils/py_utils.cc:38] TF-TRT Warning: Cannot dlopen some TensorRT libraries. If you would like to use Nvidia GPU with TensorRT, please make sure the missing libraries mentioned above are installed properly.\n",
      "2022-10-27 14:42:38.742599: E tensorflow/stream_executor/cuda/cuda_driver.cc:265] failed call to cuInit: CUDA_ERROR_NO_DEVICE: no CUDA-capable device is detected\n",
      "2022-10-27 14:42:38.742634: I tensorflow/stream_executor/cuda/cuda_diagnostics.cc:156] kernel driver does not appear to be running on this host (recpi): /proc/driver/nvidia/version does not exist\n",
      "2022-10-27 14:42:38.742982: I tensorflow/core/platform/cpu_feature_guard.cc:193] This TensorFlow binary is optimized with oneAPI Deep Neural Network Library (oneDNN) to use the following CPU instructions in performance-critical operations:  AVX2 FMA\n",
      "To enable them in other operations, rebuild TensorFlow with the appropriate compiler flags.\n"
     ]
    }
   ],
   "source": [
    "!python visualization.py --process video --path ./monty/"
   ]
  },
  {
   "cell_type": "code",
   "execution_count": 21,
   "id": "133800ce",
   "metadata": {},
   "outputs": [
    {
     "name": "stdout",
     "output_type": "stream",
     "text": [
      "ffmpeg version 4.2.7-0ubuntu0.1 Copyright (c) 2000-2022 the FFmpeg developers\n",
      "  built with gcc 9 (Ubuntu 9.4.0-1ubuntu1~20.04.1)\n",
      "  configuration: --prefix=/usr --extra-version=0ubuntu0.1 --toolchain=hardened --libdir=/usr/lib/x86_64-linux-gnu --incdir=/usr/include/x86_64-linux-gnu --arch=amd64 --enable-gpl --disable-stripping --enable-avresample --disable-filter=resample --enable-avisynth --enable-gnutls --enable-ladspa --enable-libaom --enable-libass --enable-libbluray --enable-libbs2b --enable-libcaca --enable-libcdio --enable-libcodec2 --enable-libflite --enable-libfontconfig --enable-libfreetype --enable-libfribidi --enable-libgme --enable-libgsm --enable-libjack --enable-libmp3lame --enable-libmysofa --enable-libopenjpeg --enable-libopenmpt --enable-libopus --enable-libpulse --enable-librsvg --enable-librubberband --enable-libshine --enable-libsnappy --enable-libsoxr --enable-libspeex --enable-libssh --enable-libtheora --enable-libtwolame --enable-libvidstab --enable-libvorbis --enable-libvpx --enable-libwavpack --enable-libwebp --enable-libx265 --enable-libxml2 --enable-libxvid --enable-libzmq --enable-libzvbi --enable-lv2 --enable-omx --enable-openal --enable-opencl --enable-opengl --enable-sdl2 --enable-libdc1394 --enable-libdrm --enable-libiec61883 --enable-nvenc --enable-chromaprint --enable-frei0r --enable-libx264 --enable-shared\n",
      "  libavutil      56. 31.100 / 56. 31.100\n",
      "  libavcodec     58. 54.100 / 58. 54.100\n",
      "  libavformat    58. 29.100 / 58. 29.100\n",
      "  libavdevice    58.  8.100 / 58.  8.100\n",
      "  libavfilter     7. 57.100 /  7. 57.100\n",
      "  libavresample   4.  0.  0 /  4.  0.  0\n",
      "  libswscale      5.  5.100 /  5.  5.100\n",
      "  libswresample   3.  5.100 /  3.  5.100\n",
      "  libpostproc    55.  5.100 / 55.  5.100\n",
      "Input #0, image2, from './monty_output/result-%04d.jpg':\n",
      "  Duration: 00:00:06.48, start: 0.000000, bitrate: N/A\n",
      "    Stream #0:0: Video: mjpeg (Baseline), yuvj420p(pc, bt470bg/unknown/unknown), 720x1280 [SAR 1:1 DAR 9:16], 25 fps, 25 tbr, 25 tbn, 25 tbc\n",
      "Stream mapping:\n",
      "  Stream #0:0 -> #0:0 (mjpeg (native) -> h264 (libx264))\n",
      "Press [q] to stop, [?] for help\n",
      "\u001b[1;36m[libx264 @ 0x55be6d1c77c0] \u001b[0musing SAR=1/1\n",
      "\u001b[1;36m[libx264 @ 0x55be6d1c77c0] \u001b[0musing cpu capabilities: MMX2 SSE2Fast SSSE3 SSE4.2 AVX FMA3 BMI2 AVX2\n",
      "\u001b[1;36m[libx264 @ 0x55be6d1c77c0] \u001b[0mprofile High, level 3.1\n",
      "\u001b[1;36m[libx264 @ 0x55be6d1c77c0] \u001b[0m264 - core 155 r2917 0a84d98 - H.264/MPEG-4 AVC codec - Copyleft 2003-2018 - http://www.videolan.org/x264.html - options: cabac=1 ref=3 deblock=1:0:0 analyse=0x3:0x113 me=hex subme=7 psy=1 psy_rd=1.00:0.00 mixed_ref=1 me_range=16 chroma_me=1 trellis=1 8x8dct=1 cqm=0 deadzone=21,11 fast_pskip=1 chroma_qp_offset=-2 threads=12 lookahead_threads=2 sliced_threads=0 nr=0 decimate=1 interlaced=0 bluray_compat=0 constrained_intra=0 bframes=3 b_pyramid=2 b_adapt=1 b_bias=0 direct=1 weightb=1 open_gop=0 weightp=2 keyint=250 keyint_min=25 scenecut=40 intra_refresh=0 rc_lookahead=40 rc=crf mbtree=1 crf=23.0 qcomp=0.60 qpmin=0 qpmax=69 qpstep=4 ip_ratio=1.40 aq=1:1.00\n",
      "Output #0, mp4, to 'monty-output.mp4':\n",
      "  Metadata:\n",
      "    encoder         : Lavf58.29.100\n",
      "    Stream #0:0: Video: h264 (libx264) (avc1 / 0x31637661), yuvj420p(pc), 720x1280 [SAR 1:1 DAR 9:16], q=-1--1, 25 fps, 12800 tbn, 25 tbc\n",
      "    Metadata:\n",
      "      encoder         : Lavc58.54.100 libx264\n",
      "    Side data:\n",
      "      cpb: bitrate max/min/avg: 0/0/0 buffer size: 0 vbv_delay: -1\n",
      "frame=  162 fps= 41 q=-1.0 Lsize=    3582kB time=00:00:06.36 bitrate=4614.2kbits/s speed= 1.6x     \n",
      "video:3580kB audio:0kB subtitle:0kB other streams:0kB global headers:0kB muxing overhead: 0.069617%\n",
      "\u001b[1;36m[libx264 @ 0x55be6d1c77c0] \u001b[0mframe I:6     Avg QP:21.17  size: 24652\n",
      "\u001b[1;36m[libx264 @ 0x55be6d1c77c0] \u001b[0mframe P:70    Avg QP:24.21  size: 20712\n",
      "\u001b[1;36m[libx264 @ 0x55be6d1c77c0] \u001b[0mframe B:86    Avg QP:26.04  size: 24039\n",
      "\u001b[1;36m[libx264 @ 0x55be6d1c77c0] \u001b[0mconsecutive B-frames: 25.9%  6.2% 11.1% 56.8%\n",
      "\u001b[1;36m[libx264 @ 0x55be6d1c77c0] \u001b[0mmb I  I16..4: 37.5% 62.3%  0.2%\n",
      "\u001b[1;36m[libx264 @ 0x55be6d1c77c0] \u001b[0mmb P  I16..4: 34.9% 60.5%  0.4%  P16..4:  2.6%  1.0%  0.3%  0.0%  0.0%    skip: 0.3%\n",
      "\u001b[1;36m[libx264 @ 0x55be6d1c77c0] \u001b[0mmb B  I16..4: 15.5% 48.6%  0.2%  B16..8: 11.4%  6.2%  2.2%  direct:11.1%  skip: 4.8%  L0:46.6% L1:38.3% BI:15.0%\n",
      "\u001b[1;36m[libx264 @ 0x55be6d1c77c0] \u001b[0m8x8 transform intra:68.5% inter:82.6%\n",
      "\u001b[1;36m[libx264 @ 0x55be6d1c77c0] \u001b[0mcoded y,uvDC,uvAC intra: 48.9% 74.9% 1.2% inter: 52.6% 71.4% 0.2%\n",
      "\u001b[1;36m[libx264 @ 0x55be6d1c77c0] \u001b[0mi16 v,h,dc,p: 42% 25% 14% 20%\n",
      "\u001b[1;36m[libx264 @ 0x55be6d1c77c0] \u001b[0mi8 v,h,dc,ddl,ddr,vr,hd,vl,hu: 29% 21% 38%  3%  1%  1%  1%  2%  4%\n",
      "\u001b[1;36m[libx264 @ 0x55be6d1c77c0] \u001b[0mi4 v,h,dc,ddl,ddr,vr,hd,vl,hu: 38% 21% 15%  4%  6%  6%  5%  3%  3%\n",
      "\u001b[1;36m[libx264 @ 0x55be6d1c77c0] \u001b[0mi8c dc,h,v,p: 34% 19% 30% 17%\n",
      "\u001b[1;36m[libx264 @ 0x55be6d1c77c0] \u001b[0mWeighted P-Frames: Y:28.6% UV:28.6%\n",
      "\u001b[1;36m[libx264 @ 0x55be6d1c77c0] \u001b[0mref P L0: 51.4%  9.4% 17.0% 17.0%  5.2%\n",
      "\u001b[1;36m[libx264 @ 0x55be6d1c77c0] \u001b[0mref B L0: 74.4% 20.1%  5.5%\n",
      "\u001b[1;36m[libx264 @ 0x55be6d1c77c0] \u001b[0mref B L1: 88.5% 11.5%\n",
      "\u001b[1;36m[libx264 @ 0x55be6d1c77c0] \u001b[0mkb/s:4524.79\n"
     ]
    }
   ],
   "source": [
    "!ffmpeg -framerate 25 -i ./monty_output/result-%04d.jpg monty-output.mp4"
   ]
  },
  {
   "cell_type": "code",
   "execution_count": null,
   "id": "ce8f3adf",
   "metadata": {},
   "outputs": [],
   "source": []
  },
  {
   "cell_type": "code",
   "execution_count": null,
   "id": "1d45cc99",
   "metadata": {},
   "outputs": [],
   "source": []
  },
  {
   "cell_type": "code",
   "execution_count": null,
   "id": "b2df666a",
   "metadata": {},
   "outputs": [],
   "source": []
  },
  {
   "cell_type": "code",
   "execution_count": null,
   "id": "1713a780",
   "metadata": {},
   "outputs": [],
   "source": []
  },
  {
   "cell_type": "code",
   "execution_count": null,
   "id": "ac9dc246",
   "metadata": {},
   "outputs": [],
   "source": []
  },
  {
   "cell_type": "code",
   "execution_count": null,
   "id": "37bd0804",
   "metadata": {},
   "outputs": [],
   "source": []
  },
  {
   "cell_type": "code",
   "execution_count": null,
   "id": "65b3ff8d",
   "metadata": {},
   "outputs": [],
   "source": []
  },
  {
   "cell_type": "code",
   "execution_count": null,
   "id": "d30fc23e",
   "metadata": {},
   "outputs": [],
   "source": []
  },
  {
   "cell_type": "code",
   "execution_count": null,
   "id": "0ec79aef",
   "metadata": {},
   "outputs": [],
   "source": []
  }
 ],
 "metadata": {
  "kernelspec": {
   "display_name": "Python 3 (ipykernel)",
   "language": "python",
   "name": "python3"
  },
  "language_info": {
   "codemirror_mode": {
    "name": "ipython",
    "version": 3
   },
   "file_extension": ".py",
   "mimetype": "text/x-python",
   "name": "python",
   "nbconvert_exporter": "python",
   "pygments_lexer": "ipython3",
   "version": "3.9.12"
  }
 },
 "nbformat": 4,
 "nbformat_minor": 5
}
